{
 "cells": [
  {
   "cell_type": "code",
   "execution_count": 0,
   "metadata": {
    "_cell_guid": "b1076dfc-b9ad-4769-8c92-a6c4dae69d19",
    "_uuid": "8f2839f25d086af736a60e9eeb907d3b93b6e0e5",
    "colab": {},
    "colab_type": "code",
    "id": "U2D2gTdJVp90"
   },
   "outputs": [],
   "source": [
    "import numpy as np\n",
    "import pandas as pd\n",
    "import seaborn as sns\n",
    "import matplotlib.pyplot as plt\n",
    "from collections import Counter"
   ]
  },
  {
   "cell_type": "code",
   "execution_count": 0,
   "metadata": {
    "_cell_guid": "79c7e3d0-c299-4dcb-8224-4455121ee9b0",
    "_uuid": "d629ff2d2480ee46fbb7e2d37f6b5fab8052498a",
    "colab": {},
    "colab_type": "code",
    "id": "oyGfxL3eVp9-"
   },
   "outputs": [],
   "source": [
    "data = pd.read_csv('movie_bd_v5.csv')\n",
    "data.sample(5)"
   ]
  },
  {
   "cell_type": "code",
   "execution_count": 0,
   "metadata": {
    "colab": {},
    "colab_type": "code",
    "id": "CoYUnagMVp-C"
   },
   "outputs": [],
   "source": [
    "data.describe()"
   ]
  },
  {
   "cell_type": "markdown",
   "metadata": {
    "colab_type": "text",
    "id": "DTIt7ezGVp-G"
   },
   "source": [
    "# Предобработка"
   ]
  },
  {
   "cell_type": "code",
   "execution_count": 0,
   "metadata": {
    "colab": {},
    "colab_type": "code",
    "id": "jNb40DwKVp-H"
   },
   "outputs": [],
   "source": [
    "answers = {} # создадим словарь для ответов\n",
    "\n",
    "small_movie['profit'] = small_movie.revenue.fillna(small_movie.budget)  #создаём колонку profit (прибыль)\n",
    "small_movie['profit'] = small_movie['revenue'] - small_movie['budget']  #заполняем колонку profit значениями\n"
   ]
  },
  {
   "cell_type": "markdown",
   "metadata": {
    "colab_type": "text",
    "id": "YxZaH-nPVp-L"
   },
   "source": [
    "# 1. У какого фильма из списка самый большой бюджет?"
   ]
  },
  {
   "cell_type": "markdown",
   "metadata": {
    "colab_type": "text",
    "id": "Nd-G5gX6Vp-M"
   },
   "source": [
    "Использовать варианты ответов в коде решения запрещено.    \n",
    "Вы думаете и в жизни у вас будут варианты ответов?)"
   ]
  },
  {
   "cell_type": "code",
   "execution_count": 0,
   "metadata": {
    "colab": {},
    "colab_type": "code",
    "id": "uVnXAY5RVp-O"
   },
   "outputs": [],
   "source": [
    " answers['1'] = '4. Pirates of the Caribbean: On Stranger Tides (tt1298650)'\n",
    "# +"
   ]
  },
  {
   "cell_type": "code",
   "execution_count": 0,
   "metadata": {
    "colab": {},
    "colab_type": "code",
    "id": "dZwb3m28Vp-S"
   },
   "outputs": [],
   "source": [
    "movie = pd.read_csv('C:/Users/Userpc/Desktop/itog/movie_bd_v5.csv') #открываю рабочий файл\n",
    "small_movie = movie[movie.columns[1:5]] #ограничиваю число столбцов для удобства\n",
    "sm = small_movie.loc[small_movie['budget'] == small_movie['budget'].max()] #определяю значение строки по максимальному значению в колонке budget\n",
    "with pd.option_context('max_columns', None):  #раскрываю все столбцы таблицы\n",
    "    print(sm) #вывод значения"
   ]
  },
  {
   "cell_type": "markdown",
   "metadata": {
    "colab_type": "text",
    "id": "K7L3nbRXVp-X"
   },
   "source": [
    "ВАРИАНТ 2"
   ]
  },
  {
   "cell_type": "code",
   "execution_count": 0,
   "metadata": {
    "colab": {},
    "colab_type": "code",
    "id": "OGaoQI7rVp-X"
   },
   "outputs": [],
   "source": [
    "# можно добавлять разные варианты решения"
   ]
  },
  {
   "cell_type": "markdown",
   "metadata": {
    "colab_type": "text",
    "id": "FNRbbI3vVp-c"
   },
   "source": [
    "# 2. Какой из фильмов самый длительный (в минутах)"
   ]
  },
  {
   "cell_type": "code",
   "execution_count": 0,
   "metadata": {
    "colab": {},
    "colab_type": "code",
    "id": "vHAoEXNTVp-d"
   },
   "outputs": [],
   "source": [
    "answers['2'] = '2.Gods and Generals (tt0279111)'\n",
    "#+"
   ]
  },
  {
   "cell_type": "code",
   "execution_count": 0,
   "metadata": {
    "colab": {},
    "colab_type": "code",
    "id": "ot-VX2XrVp-g"
   },
   "outputs": [],
   "source": [
    "movie = pd.read_csv('C:/Users/Userpc/Desktop/itog/movie_bd_v5.csv')          #открываю рабочий файл\n",
    "small_movie = movie[movie.columns[1:10]]                                     #ограничиваю число столбцов для удобства\n",
    "sm = small_movie.loc[small_movie['runtime'] == small_movie['runtime'].max()] #определяю значение строки по максимальному значению в колонке runtime\n",
    "with pd.option_context('max_columns', None):                                 #раскрываю все столбцы таблицы\n",
    "    print(sm)                                                                #вывод значения"
   ]
  },
  {
   "cell_type": "markdown",
   "metadata": {
    "colab_type": "text",
    "id": "bapLlpW8Vp-k"
   },
   "source": [
    "# 3. Какой из фильмов самый короткий (в минутах)?\n",
    "\n",
    "\n",
    "\n"
   ]
  },
  {
   "cell_type": "code",
   "execution_count": 0,
   "metadata": {
    "colab": {},
    "colab_type": "code",
    "id": "YBxaSHuAVp-l"
   },
   "outputs": [],
   "source": [
    "answers['3'answers['3'] = '3.Winnie the Pooh (tt1449283)' \n",
    "#+"
   ]
  },
  {
   "cell_type": "code",
   "execution_count": null,
   "metadata": {},
   "outputs": [],
   "source": [
    "movie = pd.read_csv('C:/Users/Userpc/Desktop/itog/movie_bd_v5.csv')          #открываю рабочий файл\n",
    "small_movie = movie[movie.columns[1:10]]                                     #ограничиваю число столбцов для удобства\n",
    "sm = small_movie.loc[small_movie['runtime'] == small_movie['runtime'].min()] #определяю значение строки по минимальному значению в колонке runtime\n",
    "with pd.option_context('max_columns', None):                                 #раскрываю все столбцы таблицы\n",
    "    print(sm)                                                                #вывод значения"
   ]
  },
  {
   "cell_type": "markdown",
   "metadata": {
    "colab_type": "text",
    "id": "TfQbxbfNVp-p"
   },
   "source": [
    "# 4. Какова средняя длительность фильмов?\n"
   ]
  },
  {
   "cell_type": "code",
   "execution_count": 0,
   "metadata": {
    "colab": {},
    "colab_type": "code",
    "id": "5K6dKZYVVp-q"
   },
   "outputs": [],
   "source": [
    "answers['4'] = '2.110'\n",
    "#+"
   ]
  },
  {
   "cell_type": "code",
   "execution_count": null,
   "metadata": {},
   "outputs": [],
   "source": [
    "movie = pd.read_csv('C:/Users/Userpc/Desktop/itog/movie_bd_v5.csv') #открываю рабочий файл\n",
    "small_movie = movie[movie.columns[1:10]]                            #ограничиваю число столбцов для удобства\n",
    "sm = small_movie['runtime'].mean()                                  #определяю среднее значение в колонке runtime\n",
    "with pd.option_context('max_columns', None):                        #раскрываю все столбцы таблицы\n",
    "    print(sm)                                                       #вывод значения\n",
    "    "
   ]
  },
  {
   "cell_type": "markdown",
   "metadata": {
    "colab_type": "text",
    "id": "r5TvbnT_Vp-u"
   },
   "source": [
    "# 5. Каково медианное значение длительности фильмов? "
   ]
  },
  {
   "cell_type": "code",
   "execution_count": 1,
   "metadata": {
    "colab": {},
    "colab_type": "code",
    "id": "iBROplKnVp-v"
   },
   "outputs": [
    {
     "ename": "NameError",
     "evalue": "name 'answers' is not defined",
     "output_type": "error",
     "traceback": [
      "\u001b[1;31m---------------------------------------------------------------------------\u001b[0m",
      "\u001b[1;31mNameError\u001b[0m                                 Traceback (most recent call last)",
      "\u001b[1;32m<ipython-input-1-f60f6a5782bf>\u001b[0m in \u001b[0;36m<module>\u001b[1;34m\u001b[0m\n\u001b[1;32m----> 1\u001b[1;33m \u001b[0manswers\u001b[0m\u001b[1;33m[\u001b[0m\u001b[1;34m'1'\u001b[0m\u001b[1;33m]\u001b[0m \u001b[1;33m=\u001b[0m \u001b[1;34m'1.107'\u001b[0m\u001b[1;33m\u001b[0m\u001b[1;33m\u001b[0m\u001b[0m\n\u001b[0m\u001b[0;32m      2\u001b[0m \u001b[1;31m#+\u001b[0m\u001b[1;33m\u001b[0m\u001b[1;33m\u001b[0m\u001b[1;33m\u001b[0m\u001b[0m\n",
      "\u001b[1;31mNameError\u001b[0m: name 'answers' is not defined"
     ]
    }
   ],
   "source": [
    "answers['5'] = '1.107'\n",
    "#+"
   ]
  },
  {
   "cell_type": "code",
   "execution_count": null,
   "metadata": {},
   "outputs": [],
   "source": [
    "movie = pd.read_csv('C:/Users/Userpc/Desktop/itog/movie_bd_v5.csv')  #открываю рабочий файл\n",
    "small_movie = movie[movie.columns[1:10]]                             #ограничиваю число столбцов для удобства\n",
    "sm = small_movie['runtime'].median()                                 #определяю медианное значение в колонке runtime\n",
    "with pd.option_context('max_columns', None):                         #раскрываю все столбцы таблицы\n",
    "    print(sm)                                                        #вывод значения"
   ]
  },
  {
   "cell_type": "markdown",
   "metadata": {
    "colab_type": "text",
    "id": "39P-deDSVp-y"
   },
   "source": [
    "# 6. Какой самый прибыльный фильм?\n",
    "#### Внимание! Здесь и далее под «прибылью» или «убытками» понимается разность между сборами и бюджетом фильма. (прибыль = сборы - бюджет) в нашем датасете это будет (profit = revenue - budget) "
   ]
  },
  {
   "cell_type": "code",
   "execution_count": 0,
   "metadata": {
    "colab": {},
    "colab_type": "code",
    "id": "UYZh4T9WVp-y"
   },
   "outputs": [],
   "source": [
    " answers['6'] = '5.Avatar (tt0499549)'\n",
    "# +"
   ]
  },
  {
   "cell_type": "code",
   "execution_count": null,
   "metadata": {},
   "outputs": [],
   "source": [
    "movie = pd.read_csv('C:/Users/Userpc/Desktop/itog/movie_bd_v5.csv')   #открываю рабочий файл\n",
    "small_movie = movie[movie.columns[1:5]]\n",
    "small_movie['profit'] = small_movie.revenue.fillna(small_movie.budget)#создаю колонку profit (прибыль)\n",
    "small_movie['profit'] = small_movie['revenue'] - small_movie['budget']#заполняю profit значениями\n",
    "profit_max = small_movie.sort_values('profit', ascending = False)     #сортирую колонку profit по убыванию\n",
    "with pd.option_context('max_columns', None):                          #раскрываю все столбцы таблицы\n",
    "    print(profit_max)                                                 #вывод значения"
   ]
  },
  {
   "cell_type": "markdown",
   "metadata": {
    "colab_type": "text",
    "id": "M99JmIX4Vp-2"
   },
   "source": [
    "# 7. Какой фильм самый убыточный? "
   ]
  },
  {
   "cell_type": "code",
   "execution_count": 0,
   "metadata": {
    "colab": {},
    "colab_type": "code",
    "id": "w-D2m4XPVp-3"
   },
   "outputs": [],
   "source": [
    "answers['7'] = '5.The Lone Ranger (tt1210819)'\n",
    "#+                                             "
   ]
  },
  {
   "cell_type": "code",
   "execution_count": null,
   "metadata": {},
   "outputs": [],
   "source": [
    "movie = pd.read_csv('C:/Users/Userpc/Desktop/itog/movie_bd_v5.csv')    #открываю рабочий файл\n",
    "small_movie = movie[movie.columns[1:5]]\n",
    "small_movie['profit'] = small_movie.revenue.fillna(small_movie.budget) #создаю колонку profit (прибыль)\n",
    "small_movie['profit'] = small_movie['revenue'] - small_movie['budget'] #заполняю profit значениями\n",
    "profit_max = small_movie.sort_values('profit', ascending = True)       #сортирую колонку profit по возрастанию\n",
    "with pd.option_context('max_columns', None):                           #раскрываю все столбцы таблицы\n",
    "    print(profit_max)                                                  #вывод значения"
   ]
  },
  {
   "cell_type": "markdown",
   "metadata": {
    "colab_type": "text",
    "id": "wEOM5ERVVp-6"
   },
   "source": [
    "# 8. У скольких фильмов из датасета объем сборов оказался выше бюджета?"
   ]
  },
  {
   "cell_type": "code",
   "execution_count": 0,
   "metadata": {
    "colab": {},
    "colab_type": "code",
    "id": "y00_7HD6Vp-7"
   },
   "outputs": [],
   "source": [
    "answers['8'] = '1.1478'\n",
    "# +"
   ]
  },
  {
   "cell_type": "code",
   "execution_count": null,
   "metadata": {},
   "outputs": [],
   "source": [
    "movie = pd.read_csv('C:/Users/Userpc/Desktop/itog/movie_bd_v5.csv')     #открываю рабочий файл\n",
    "small_movie = movie[movie.columns[1:5]]                                 #сокращаю число столбцов для удобства\n",
    "small_movie['profit'] = small_movie.revenue.fillna(small_movie.budget)  #создаю колонку profit (прибыль)\n",
    "small_movie['profit'] = small_movie['revenue'] - small_movie['budget']  #заполняю profit значениями\n",
    "profit_max = small_movie.sort_values('profit', ascending = True)        #сортирую колонку profit по возрастанию\n",
    "revenue_more = small_movie[small_movie.revenue > small_movie.budget]    #задаю условие для сравнения\n",
    "with pd.option_context('max_columns', None):                            #раскрываю все столбцы\n",
    "    print(revenue_more)                                                 #вывод значения\n",
    "    "
   ]
  },
  {
   "cell_type": "markdown",
   "metadata": {
    "colab_type": "text",
    "id": "xhpspA9KVp_A"
   },
   "source": [
    "# 9. Какой фильм оказался самым кассовым в 2008 году?"
   ]
  },
  {
   "cell_type": "code",
   "execution_count": 0,
   "metadata": {
    "colab": {},
    "colab_type": "code",
    "id": "MoUyQr9RVp_B"
   },
   "outputs": [],
   "source": [
    "answers['7'] = '4.The Dark Knight (tt0468569)'\n",
    "# +"
   ]
  },
  {
   "cell_type": "code",
   "execution_count": null,
   "metadata": {},
   "outputs": [],
   "source": [
    "movie = pd.read_csv('C:/Users/Userpc/Desktop/itog/movie_bd_v5.csv')     #открываю рабочий файл\n",
    "movie['profit'] = movie.revenue.fillna(movie.budget)                    #создаю колонку profit (прибыль)\n",
    "movie['profit'] = movie['revenue'] - movie['budget']                    #заполняю profit значениями\n",
    "films = movie.loc[(movie.release_year == 2008)]                         #создаю DF со значениями 2008 года\n",
    "films_m = films.sort_values('revenue', ascending = False)               #сортирую DF по убыванию\n",
    "with pd.option_context('max_columns', None):                            #раскрываю все столбцы\n",
    "    print(films_m)                                                      #вывод значения"
   ]
  },
  {
   "cell_type": "markdown",
   "metadata": {
    "colab_type": "text",
    "id": "Zi4hDKidVp_F"
   },
   "source": [
    "# 10. Самый убыточный фильм за период с 2012 по 2014 г. (включительно)?\n"
   ]
  },
  {
   "cell_type": "code",
   "execution_count": 0,
   "metadata": {
    "colab": {},
    "colab_type": "code",
    "id": "XqyRmufJVp_F"
   },
   "outputs": [],
   "source": [
    "answers['10'] = '5.The Lone Ranger (tt1210819)'\n",
    "# +"
   ]
  },
  {
   "cell_type": "code",
   "execution_count": null,
   "metadata": {},
   "outputs": [],
   "source": [
    "movie = pd.read_csv('C:/Users/Userpc/Desktop/itog/movie_bd_v5.csv')       #открываю рабочий файл\n",
    "movie['profit'] = movie.revenue.fillna(movie.budget)                      #создаю колонку прибыль\n",
    "movie['profit'] = movie['revenue'] - movie['budget']                      #задаю значения колонки прибыль\n",
    "all_movie = movie.loc[(movie.release_year >= 2012) & (movie.release_year <= 2014)].sort_values('profit', ascending = True) #создаю DF со значениями с 2012 по 2014 год включительно\n",
    "with pd.option_context('max_columns', None):                              #раскрываю все столбцы\n",
    "    print(all_movie)                                                      #вывод значения"
   ]
  },
  {
   "cell_type": "markdown",
   "metadata": {
    "colab_type": "text",
    "id": "EA7Sa9dkVp_I"
   },
   "source": [
    "# 11. Какого жанра фильмов больше всего?"
   ]
  },
  {
   "cell_type": "code",
   "execution_count": 0,
   "metadata": {
    "colab": {},
    "colab_type": "code",
    "id": "zsJAwJ8QVp_J"
   },
   "outputs": [],
   "source": [
    "answers['11'] = '3.Drama'\n",
    "# +                                 "
   ]
  },
  {
   "cell_type": "code",
   "execution_count": null,
   "metadata": {},
   "outputs": [],
   "source": [
    "movie = pd.read_csv('C:/Users/Userpc/Desktop/itog/movie_bd_v5.csv')               #открываю рабочий файл\n",
    "small_movie = movie.copy()                                                        #создаю копию объекта\n",
    "small_movie['genres'] = small_movie.genres.str.split('|')                         #убираю разделители между жанрами\n",
    "small_movie = small_movie.explode('genres').groupby(['genres']).count().sort_values(by = 'cast', ascending = False) #разбиваю жанры по строкам, группирую, считаю число каждого из них и сортирую по убыванию \n",
    "print(small_movie)                                                                #вывод\n",
    "                    "
   ]
  },
  {
   "cell_type": "markdown",
   "metadata": {
    "colab_type": "text",
    "id": "Ax6g2C8SVp_M"
   },
   "source": [
    "ВАРИАНТ 2"
   ]
  },
  {
   "cell_type": "code",
   "execution_count": 0,
   "metadata": {
    "colab": {},
    "colab_type": "code",
    "id": "otO3SbrSVp_N"
   },
   "outputs": [],
   "source": []
  },
  {
   "cell_type": "markdown",
   "metadata": {
    "colab_type": "text",
    "id": "T9_bPWpkVp_Q"
   },
   "source": [
    "# 12. Фильмы какого жанра чаще всего становятся прибыльными? "
   ]
  },
  {
   "cell_type": "code",
   "execution_count": 0,
   "metadata": {
    "colab": {},
    "colab_type": "code",
    "id": "Tmt8MaK1Vp_R"
   },
   "outputs": [],
   "source": [
    "answers['12'] = '1.Drama'\n",
    "# +"
   ]
  },
  {
   "cell_type": "code",
   "execution_count": null,
   "metadata": {},
   "outputs": [],
   "source": [
    "\n",
    "movie = pd.read_csv('C:/Users/Userpc/Desktop/itog/movie_bd_v5.csv')     #открываю рабочий файл\n",
    "small_movie = movie.copy()                                              #делаю копию DF\n",
    "small_movie['profit'] = small_movie.revenue.fillna(small_movie.budget)  #создаю колонку бюджет\n",
    "small_movie['profit'] = small_movie['revenue'] - small_movie['budget']  #заполняю колонку значениями\n",
    "small_movie['genres'] = small_movie.genres.str.split('|')               #разделяю все жанры на отдельные слова\n",
    "small_movie = small_movie.explode('genres').groupby(['genres']).count().sort_values(by = 'profit', ascending = False)#сортирую количество genres в колонке profit по убыванию\n",
    "print(small_movie)                                                      #вывод значения\n"
   ]
  },
  {
   "cell_type": "markdown",
   "metadata": {
    "colab_type": "text",
    "id": "0F23bgsDVp_U"
   },
   "source": [
    "# 13. У какого режиссера самые большие суммарные кассовые сборы?"
   ]
  },
  {
   "cell_type": "code",
   "execution_count": 0,
   "metadata": {
    "colab": {},
    "colab_type": "code",
    "id": "K6Z3J8ygVp_X"
   },
   "outputs": [],
   "source": [
    "answers['13'] = '5.Peter Jackson'\n",
    "# +"
   ]
  },
  {
   "cell_type": "code",
   "execution_count": null,
   "metadata": {},
   "outputs": [],
   "source": [
    "movie = pd.read_csv('C:/Users/Userpc/Desktop/itog/movie_bd_v5.csv')                 #открываю рабочий файл\n",
    "small_movie = movie.copy()                                                          #создаю копию объекта\n",
    "small_movie = small_movie.explode('director').groupby(['director']).sum().sort_values(by = 'revenue', ascending = False) #разбиваю режиссёров по строкам, группирую и суммирую число каждого из них и сортирую по возрастанию кассовых сборов.\n",
    "print(small_movie)                                                                  #вывод значения"
   ]
  },
  {
   "cell_type": "markdown",
   "metadata": {
    "colab_type": "text",
    "id": "PsYC9FgRVp_a"
   },
   "source": [
    "# 14. Какой режисер снял больше всего фильмов в стиле Action?"
   ]
  },
  {
   "cell_type": "code",
   "execution_count": 3,
   "metadata": {
    "colab": {},
    "colab_type": "code",
    "id": "wd2M-wHeVp_b"
   },
   "outputs": [
    {
     "ename": "SyntaxError",
     "evalue": "invalid syntax (<ipython-input-3-0f29aebf3e08>, line 3)",
     "output_type": "error",
     "traceback": [
      "\u001b[1;36m  File \u001b[1;32m\"<ipython-input-3-0f29aebf3e08>\"\u001b[1;36m, line \u001b[1;32m3\u001b[0m\n\u001b[1;33m    создать серию\u001b[0m\n\u001b[1;37m            ^\u001b[0m\n\u001b[1;31mSyntaxError\u001b[0m\u001b[1;31m:\u001b[0m invalid syntax\n"
     ]
    }
   ],
   "source": [
    "answers['14'] = '3.Robert Rodriguez'\n",
    "# +"
   ]
  },
  {
   "cell_type": "code",
   "execution_count": null,
   "metadata": {},
   "outputs": [],
   "source": [
    "movie = pd.read_csv('C:/Users/Userpc/Desktop/itog/movie_bd_v5.csv')  #открываю рабочий файл\n",
    "movie['director'] = movie.director.str.split('|')                    #убираю разделители между режиссёрами\n",
    "movie = movie[movie.genres.str.contains('Action',na=False)]          #выбираю только те строки, которые содержат жанр action\n",
    "director = movie.explode('director').groupby(['director'])['imdb_id'].count().sort_values(ascending=False)#сортирую количество режиссёров в колонке imdb_id по убыванию\n",
    "print (director)\n"
   ]
  },
  {
   "cell_type": "markdown",
   "metadata": {
    "colab_type": "text",
    "id": "PQ0KciD7Vp_f"
   },
   "source": [
    "# 15. Фильмы с каким актером принесли самые высокие кассовые сборы в 2012 году? "
   ]
  },
  {
   "cell_type": "code",
   "execution_count": 0,
   "metadata": {
    "colab": {},
    "colab_type": "code",
    "id": "aga62oeKVp_g"
   },
   "outputs": [],
   "source": [
    "answers['15'] = '3.Chris Hemsworth'\n",
    "# +"
   ]
  },
  {
   "cell_type": "code",
   "execution_count": null,
   "metadata": {},
   "outputs": [],
   "source": [
    "movie = pd.read_csv('C:/Users/Userpc/Desktop/itog/movie_bd_v5.csv')\n",
    "movie['profit'] = movie.revenue.fillna(movie.budget)\n",
    "movie['profit'] = movie['revenue'] - movie['budget']\n",
    "actors = movie.loc[(movie.release_year == 2012), 'revenue'] #создаю Series с кассовыми сборами за 2012 год\n",
    "films = movie.sort_values('revenue', ascending = False)     #сортирую DF по кассовым сборам\n",
    "joined = films.merge(actors, on='revenue', how='inner')     #соединяю Series и DF по колонке кассовых сборов\n",
    "with pd.option_context('max_columns', None):                \n",
    "    print(joined)"
   ]
  },
  {
   "cell_type": "markdown",
   "metadata": {
    "colab_type": "text",
    "id": "mWHyyL7QVp_j"
   },
   "source": [
    "# 16. Какой актер снялся в большем количестве высокобюджетных фильмов?"
   ]
  },
  {
   "cell_type": "code",
   "execution_count": 0,
   "metadata": {
    "colab": {},
    "colab_type": "code",
    "id": "qQtmHKTFVp_k"
   },
   "outputs": [],
   "source": [
    "answers['16'] = '3.Matt Damon'\n",
    "# +"
   ]
  },
  {
   "cell_type": "code",
   "execution_count": null,
   "metadata": {},
   "outputs": [],
   "source": [
    "actor = pd.Series(movie[movie.budget > movie.budget.mean()].cast.str.split('|').sum()).value_counts().index[0] #делаю выборку по бюджету выше среднего, убираю азделители между актёрами, суммирую и считаю число уникальных значений, задаю первого в списке на вывод\n",
    "print(actor)"
   ]
  },
  {
   "cell_type": "markdown",
   "metadata": {
    "colab_type": "text",
    "id": "NIh6AaW5Vp_n"
   },
   "source": [
    "# 17. В фильмах какого жанра больше всего снимался Nicolas Cage? "
   ]
  },
  {
   "cell_type": "code",
   "execution_count": 0,
   "metadata": {
    "colab": {},
    "colab_type": "code",
    "id": "H74SJDIBVp_n"
   },
   "outputs": [],
   "source": [
    "answers['17'] = '2.Action'\n",
    "# +    "
   ]
  },
  {
   "cell_type": "code",
   "execution_count": null,
   "metadata": {},
   "outputs": [],
   "source": [
    "movie = pd.read_csv('C:/Users/Userpc/Desktop/itog/movie_bd_v5.csv')\n",
    "actor1 = movie[(movie['cast'].str.contains('Nicolas Cage'))]       #делаю отбор строк, которые содержат Николас Кейдж\n",
    "actor1['genres'] = actor1.genres.str.split('|')                    #убираю разделители между жанрами\n",
    "genres1 = actor1.explode('genres').groupby(['genres']).count()     #разбиваю жанры по строкам, считаю число каждого в колонке\n",
    "with pd.option_context('max_columns', None):\n",
    "    print(genres1)"
   ]
  },
  {
   "cell_type": "markdown",
   "metadata": {
    "colab_type": "text",
    "id": "RqOmPRfWVp_q"
   },
   "source": [
    "# 18. Самый убыточный фильм от Paramount Pictures"
   ]
  },
  {
   "cell_type": "code",
   "execution_count": 4,
   "metadata": {
    "colab": {},
    "colab_type": "code",
    "id": "9E_B0Y96Vp_r"
   },
   "outputs": [
    {
     "ename": "NameError",
     "evalue": "name 'answers' is not defined",
     "output_type": "error",
     "traceback": [
      "\u001b[1;31m---------------------------------------------------------------------------\u001b[0m",
      "\u001b[1;31mNameError\u001b[0m                                 Traceback (most recent call last)",
      "\u001b[1;32m<ipython-input-4-109c32747510>\u001b[0m in \u001b[0;36m<module>\u001b[1;34m\u001b[0m\n\u001b[1;32m----> 1\u001b[1;33m \u001b[0manswers\u001b[0m\u001b[1;33m[\u001b[0m\u001b[1;34m'18'\u001b[0m\u001b[1;33m]\u001b[0m \u001b[1;33m=\u001b[0m \u001b[1;34m'1.K-19: The Widowmaker (tt0267626)'\u001b[0m\u001b[1;33m\u001b[0m\u001b[1;33m\u001b[0m\u001b[0m\n\u001b[0m",
      "\u001b[1;31mNameError\u001b[0m: name 'answers' is not defined"
     ]
    }
   ],
   "source": [
    "answers['18'] = '1.K-19: The Widowmaker (tt0267626)'\n",
    "# +   "
   ]
  },
  {
   "cell_type": "code",
   "execution_count": null,
   "metadata": {},
   "outputs": [],
   "source": [
    "movie = pd.read_csv('C:/Users/Userpc/Desktop/itog/movie_bd_v5.csv')\n",
    "movie['profit'] = movie.revenue.fillna(movie.budget)                                  \n",
    "movie['profit'] = movie['revenue'] - movie['budget']\n",
    "prod_comp = movie[(movie['production_companies'].str.contains('Paramount Pictures'))]    #отбор по Paramount Pictures\n",
    "prod_comp = prod_comp.explode('profit').groupby('original_title').sum()                  #разбиваю по строкам прибыль, группирую по названию и суммирую\n",
    "film = prod_comp['profit'].sort_values(ascending=True)                                   #сортриую по возрастаню по колонке прибыль\n",
    "with pd.option_context('max_columns', None):\n",
    "    print(film)\n",
    "    "
   ]
  },
  {
   "cell_type": "markdown",
   "metadata": {
    "colab_type": "text",
    "id": "vS8Ur6ddVp_u"
   },
   "source": [
    "# 19. Какой год стал самым успешным по суммарным кассовым сборам?"
   ]
  },
  {
   "cell_type": "code",
   "execution_count": 0,
   "metadata": {
    "colab": {},
    "colab_type": "code",
    "id": "Dnbt4GdIVp_v"
   },
   "outputs": [],
   "source": [
    "answers['19'] = '5.2015'\n",
    "# +"
   ]
  },
  {
   "cell_type": "code",
   "execution_count": null,
   "metadata": {},
   "outputs": [],
   "source": [
    "movie = pd.read_csv('C:/Users/Userpc/Desktop/itog/movie_bd_v5.csv')\n",
    "movie['profit'] = movie.revenue.fillna(movie.budget)\n",
    "movie['profit'] = movie['revenue'] - movie['budget']\n",
    "film = movie.explode('revenue').groupby('release_year').sum()      #разбиваю кассовые сборы по строкам, группирую по годам выпуска и суммирую\n",
    "film_year=film['revenue'].sort_values(ascending=False)             #сортирую получившийся DF по колонке кассовые сборы по убыванию\n",
    "with pd.option_context('max_columns', None):\n",
    "    print(film_year)\n",
    "    "
   ]
  },
  {
   "cell_type": "markdown",
   "metadata": {
    "colab_type": "text",
    "id": "JAzJh4QAVp_z"
   },
   "source": [
    "# 20. Какой самый прибыльный год для студии Warner Bros?"
   ]
  },
  {
   "cell_type": "code",
   "execution_count": 0,
   "metadata": {
    "colab": {},
    "colab_type": "code",
    "id": "wgVu02DEVp_0"
   },
   "outputs": [],
   "source": [
    "answers['20'] = '1.2014'\n",
    "# +"
   ]
  },
  {
   "cell_type": "code",
   "execution_count": null,
   "metadata": {},
   "outputs": [],
   "source": [
    "movie = pd.read_csv('C:/Users/Userpc/Desktop/itog/movie_bd_v5.csv')\n",
    "movie['profit'] = movie.revenue.fillna(movie.budget)\n",
    "movie['profit'] = movie['revenue'] - movie['budget']\n",
    "prod_comp = movie[(movie['production_companies'].str.contains('Warner Bros'))]  #отбор строк со студией Ворнер Бро\n",
    "film = prod_comp.explode('profit').groupby('release_year').sum()                #разбиваю по строкам прибыль, группирую по году выпуска и суммирую\n",
    "film_revenue=film['revenue'].sort_values(ascending=False)                       #сортирую по кассовым сборам по убыванию\n",
    "with pd.option_context('max_columns', None):\n",
    "    print(film_revenue)"
   ]
  },
  {
   "cell_type": "markdown",
   "metadata": {
    "colab_type": "text",
    "id": "8Im1S2HRVp_4"
   },
   "source": [
    "# 21. В каком месяце за все годы суммарно вышло больше всего фильмов?"
   ]
  },
  {
   "cell_type": "code",
   "execution_count": 0,
   "metadata": {
    "colab": {},
    "colab_type": "code",
    "id": "lev6TH7gVp_4"
   },
   "outputs": [],
   "source": [
    "answers['21'] = '4.Сентябрь'\n",
    "# +"
   ]
  },
  {
   "cell_type": "code",
   "execution_count": null,
   "metadata": {},
   "outputs": [],
   "source": [
    "movie = pd.read_csv('C:/Users/Userpc/Desktop/itog/movie_bd_v5.csv')\n",
    "movie.release_date = pd.to_datetime(movie.release_date)              #привожу колонку release_date к формату datetime\n",
    "movie['release_month'] = movie.release_date.dt.month                 #создаю столбец release_month со значениями месяцев\n",
    "month = movie.release_date.dt.month.value_counts()                   #считаю уникальные значения месяцев\n",
    "print(month)"
   ]
  },
  {
   "cell_type": "markdown",
   "metadata": {
    "colab_type": "text",
    "id": "uAJsZ_NeVp_7"
   },
   "source": [
    "# 22. Сколько суммарно вышло фильмов летом? (за июнь, июль, август)"
   ]
  },
  {
   "cell_type": "code",
   "execution_count": 0,
   "metadata": {
    "colab": {},
    "colab_type": "code",
    "id": "Aa-hEREoVp_8"
   },
   "outputs": [],
   "source": [
    "answers['22'] = '2.450'\n",
    "# +"
   ]
  },
  {
   "cell_type": "code",
   "execution_count": null,
   "metadata": {},
   "outputs": [],
   "source": [
    "movie = pd.read_csv('C:/Users/Userpc/Desktop/itog/movie_bd_v5.csv')\n",
    "movie.release_date = pd.to_datetime(movie.release_date)              #привожу колонку release_date к формату datetime\n",
    "movie['release_month'] = movie.release_date.dt.month                 #создаю столбец release_month со значениями месяцев\n",
    "month = movie.release_date.dt.month.value_counts()                   #считаю уникальные значения месяцев\n",
    "print(month)"
   ]
  },
  {
   "cell_type": "markdown",
   "metadata": {
    "colab_type": "text",
    "id": "G94ppOY1VqAA"
   },
   "source": [
    "# 23. Для какого режиссера зима – самое продуктивное время года? "
   ]
  },
  {
   "cell_type": "code",
   "execution_count": 5,
   "metadata": {
    "colab": {},
    "colab_type": "code",
    "id": "RhNTsamuVqAB"
   },
   "outputs": [
    {
     "ename": "NameError",
     "evalue": "name 'answers' is not defined",
     "output_type": "error",
     "traceback": [
      "\u001b[1;31m---------------------------------------------------------------------------\u001b[0m",
      "\u001b[1;31mNameError\u001b[0m                                 Traceback (most recent call last)",
      "\u001b[1;32m<ipython-input-5-4127a6606a34>\u001b[0m in \u001b[0;36m<module>\u001b[1;34m\u001b[0m\n\u001b[1;32m----> 1\u001b[1;33m \u001b[0manswers\u001b[0m\u001b[1;33m[\u001b[0m\u001b[1;34m'23'\u001b[0m\u001b[1;33m]\u001b[0m \u001b[1;33m=\u001b[0m \u001b[1;34m'5.Peter Jackson'\u001b[0m\u001b[1;33m\u001b[0m\u001b[1;33m\u001b[0m\u001b[0m\n\u001b[0m",
      "\u001b[1;31mNameError\u001b[0m: name 'answers' is not defined"
     ]
    }
   ],
   "source": [
    "answers['23'] = '5.Peter Jackson'\n",
    "# +"
   ]
  },
  {
   "cell_type": "code",
   "execution_count": null,
   "metadata": {},
   "outputs": [],
   "source": []
  },
  {
   "cell_type": "markdown",
   "metadata": {
    "colab_type": "text",
    "id": "RBo0JVjVVqAF"
   },
   "source": [
    "# 24. Какая студия дает самые длинные названия своим фильмам по количеству символов?"
   ]
  },
  {
   "cell_type": "code",
   "execution_count": 0,
   "metadata": {
    "colab": {},
    "colab_type": "code",
    "id": "QRGS8L0iVqAG"
   },
   "outputs": [],
   "source": [
    "answers['24'] = '5.Four By Two Productions'\n",
    "# +"
   ]
  },
  {
   "cell_type": "code",
   "execution_count": null,
   "metadata": {},
   "outputs": [],
   "source": [
    "movie = pd.read_csv('C:/Users/Userpc/Desktop/itog/movie_bd_v5.csv')\n",
    "movies = movie.copy()\n",
    "movies['production_companies'] = movies.production_companies.str.split('|') #убираю разделители\n",
    "movies = movies.explode('production_companies')                             #разбиваю компании по строкам\n",
    "movies['original_title'] = movies.original_title.str.len()                  #считаю длину в названии\n",
    "movies = movies.groupby(['production_companies'])['original_title'].mean().sort_values(ascending=False) #группирую компании по среднему значению символов и сортирую по убыванию\n",
    "print(movies)"
   ]
  },
  {
   "cell_type": "markdown",
   "metadata": {
    "colab_type": "text",
    "id": "9G0hbvR7VqAK"
   },
   "source": [
    "# 25. Описание фильмов какой студии в среднем самые длинные по количеству слов?"
   ]
  },
  {
   "cell_type": "code",
   "execution_count": 0,
   "metadata": {
    "colab": {},
    "colab_type": "code",
    "id": "Ge2GsLNxVqAK"
   },
   "outputs": [],
   "source": [
    "answers['25'] = '3.Midnight Picture Show'\n",
    "# +"
   ]
  },
  {
   "cell_type": "code",
   "execution_count": null,
   "metadata": {},
   "outputs": [],
   "source": [
    "movie = pd.read_csv('C:/Users/Userpc/Desktop/itog/movie_bd_v5.csv')\n",
    "movie = movie.copy()\n",
    "movie['production_companies'] = movie.production_companies.str.split('|')\n",
    "movie = movie.explode('production_companies')\n",
    "movie['overview'] = movie.overview.str.len()\n",
    "movie = movie.groupby(['production_companies'])['overview'].mean().sort_values(ascending=False)\n",
    "print(movie)"
   ]
  },
  {
   "cell_type": "markdown",
   "metadata": {
    "colab_type": "text",
    "id": "FJ1AFt90VqAP"
   },
   "source": [
    "26. Какие фильмы входят в 1 процент лучших по рейтингу? "
   ]
  },
  {
   "cell_type": "code",
   "execution_count": 0,
   "metadata": {
    "colab": {},
    "colab_type": "code",
    "id": "8qmJVq4CVqAQ"
   },
   "outputs": [],
   "source": [
    "answers['26'] = '1.Inside Out, The Dark Knight, 12 Years a Slave'\n",
    "# +"
   ]
  },
  {
   "cell_type": "code",
   "execution_count": null,
   "metadata": {},
   "outputs": [],
   "source": [
    "movie = pd.read_csv('C:/Users/Userpc/Desktop/itog/movie_bd_v5.csv')\n",
    "rate_99 = np.percentile(movie.vote_average, 99)\n",
    "small_movie = movie[movie.vote_average >= rate_99].sort_values(by='vote_average', ascending=True)\n",
    "with pd.option_context('max_columns', None):\n",
    "    print(small_movie)"
   ]
  },
  {
   "cell_type": "markdown",
   "metadata": {
    "colab_type": "text",
    "id": "MdXsUXbCVqAV"
   },
   "source": [
    "# 27. Какие актеры чаще всего снимаются в одном фильме вместе?\n"
   ]
  },
  {
   "cell_type": "markdown",
   "metadata": {
    "colab_type": "text",
    "id": "4ymnxEVoVqAW"
   },
   "source": [
    "ВАРИАНТ 2"
   ]
  },
  {
   "cell_type": "markdown",
   "metadata": {
    "colab_type": "text",
    "id": "U0nONFnGVqAX"
   },
   "source": [
    "# Submission"
   ]
  },
  {
   "cell_type": "code",
   "execution_count": 0,
   "metadata": {
    "colab": {},
    "colab_type": "code",
    "id": "IfcaRO9-VqAX",
    "outputId": "0f132912-32bb-4196-c98c-abfbc4ad5a5f"
   },
   "outputs": [
    {
     "data": {
      "text/plain": [
       "{'1': '...', '2': '...'}"
      ]
     },
     "execution_count": 8,
     "metadata": {
      "tags": []
     },
     "output_type": "execute_result"
    }
   ],
   "source": [
    "# в конце можно посмотреть свои ответы к каждому вопросу\n",
    "answers"
   ]
  },
  {
   "cell_type": "code",
   "execution_count": 0,
   "metadata": {
    "colab": {},
    "colab_type": "code",
    "id": "SiRmHPl8VqAd"
   },
   "outputs": [],
   "source": [
    "# и убедиться что ни чего не пропустил)\n",
    "len(answers)"
   ]
  },
  {
   "cell_type": "code",
   "execution_count": 0,
   "metadata": {
    "colab": {},
    "colab_type": "code",
    "id": "uCfuTkRbVqAg"
   },
   "outputs": [],
   "source": [
    "answers['27'] = '5.Daniel Radcliffe & Rupert Grint'\n",
    "# +"
   ]
  },
  {
   "cell_type": "code",
   "execution_count": 0,
   "metadata": {
    "colab": {},
    "colab_type": "code",
    "id": "Vwx3NrkSVqAl"
   },
   "outputs": [],
   "source": [
    "movie = pd.read_csv('C:/Users/Userpc/Desktop/itog/movie_bd_v5.csv')\n",
    "cast_pairs = movie.copy()\n",
    "cast_pairs['cast'] = cast_pairs.cast.str.split('|')\n",
    "cast_pairs.cast = cast_pairs.cast.apply(lambda x: list(combinations(sorted(x), 2)))\n",
    "cast_pairs.explode('cast').cast.value_counts()\n",
    "print(cast_pairs)"
   ]
  }
 ],
 "metadata": {
  "colab": {
   "name": "Copy of [SF-DST] Movies IMBD v4.1 TEMPLATE.ipynb",
   "provenance": []
  },
  "kernelspec": {
   "display_name": "Python 3",
   "language": "python",
   "name": "python3"
  },
  "language_info": {
   "codemirror_mode": {
    "name": "ipython",
    "version": 3
   },
   "file_extension": ".py",
   "mimetype": "text/x-python",
   "name": "python",
   "nbconvert_exporter": "python",
   "pygments_lexer": "ipython3",
   "version": "3.8.8"
  }
 },
 "nbformat": 4,
 "nbformat_minor": 1
}
